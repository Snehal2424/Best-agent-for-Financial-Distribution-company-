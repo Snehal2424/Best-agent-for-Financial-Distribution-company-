{
 "cells": [
  {
   "cell_type": "code",
   "execution_count": 93,
   "metadata": {},
   "outputs": [],
   "source": [
    "import numpy as np # linear algebra\n",
    "import pandas as pd # data processing, CSV file I/O (e.g. pd.read_csv)\n",
    "import seaborn as sns\n",
    "import matplotlib.pyplot as plt"
   ]
  },
  {
   "cell_type": "code",
   "execution_count": 94,
   "metadata": {},
   "outputs": [
    {
     "data": {
      "text/html": [
       "<div>\n",
       "<style scoped>\n",
       "    .dataframe tbody tr th:only-of-type {\n",
       "        vertical-align: middle;\n",
       "    }\n",
       "\n",
       "    .dataframe tbody tr th {\n",
       "        vertical-align: top;\n",
       "    }\n",
       "\n",
       "    .dataframe thead th {\n",
       "        text-align: right;\n",
       "    }\n",
       "</style>\n",
       "<table border=\"1\" class=\"dataframe\">\n",
       "  <thead>\n",
       "    <tr style=\"text-align: right;\">\n",
       "      <th></th>\n",
       "      <th>ID</th>\n",
       "      <th>Office_PIN</th>\n",
       "      <th>Application_Receipt_Date</th>\n",
       "      <th>Applicant_City_PIN</th>\n",
       "      <th>Applicant_Gender</th>\n",
       "      <th>Applicant_BirthDate</th>\n",
       "      <th>Applicant_Marital_Status</th>\n",
       "      <th>Applicant_Occupation</th>\n",
       "      <th>Applicant_Qualification</th>\n",
       "      <th>Manager_DOJ</th>\n",
       "      <th>...</th>\n",
       "      <th>Manager_Status</th>\n",
       "      <th>Manager_Gender</th>\n",
       "      <th>Manager_DoB</th>\n",
       "      <th>Manager_Num_Application</th>\n",
       "      <th>Manager_Num_Coded</th>\n",
       "      <th>Manager_Business</th>\n",
       "      <th>Manager_Num_Products</th>\n",
       "      <th>Manager_Business2</th>\n",
       "      <th>Manager_Num_Products2</th>\n",
       "      <th>Business_Sourced</th>\n",
       "    </tr>\n",
       "  </thead>\n",
       "  <tbody>\n",
       "    <tr>\n",
       "      <th>0</th>\n",
       "      <td>FIN1000001</td>\n",
       "      <td>842001</td>\n",
       "      <td>4/16/2007</td>\n",
       "      <td>844120.0</td>\n",
       "      <td>M</td>\n",
       "      <td>12/19/1971</td>\n",
       "      <td>M</td>\n",
       "      <td>Others</td>\n",
       "      <td>Graduate</td>\n",
       "      <td>11/10/2005</td>\n",
       "      <td>...</td>\n",
       "      <td>Confirmation</td>\n",
       "      <td>M</td>\n",
       "      <td>2/17/1978</td>\n",
       "      <td>2.0</td>\n",
       "      <td>1.0</td>\n",
       "      <td>335249.0</td>\n",
       "      <td>28.0</td>\n",
       "      <td>335249.0</td>\n",
       "      <td>28.0</td>\n",
       "      <td>0</td>\n",
       "    </tr>\n",
       "    <tr>\n",
       "      <th>1</th>\n",
       "      <td>FIN1000002</td>\n",
       "      <td>842001</td>\n",
       "      <td>4/16/2007</td>\n",
       "      <td>844111.0</td>\n",
       "      <td>M</td>\n",
       "      <td>2/17/1983</td>\n",
       "      <td>S</td>\n",
       "      <td>Others</td>\n",
       "      <td>Class XII</td>\n",
       "      <td>11/10/2005</td>\n",
       "      <td>...</td>\n",
       "      <td>Confirmation</td>\n",
       "      <td>M</td>\n",
       "      <td>2/17/1978</td>\n",
       "      <td>2.0</td>\n",
       "      <td>1.0</td>\n",
       "      <td>335249.0</td>\n",
       "      <td>28.0</td>\n",
       "      <td>335249.0</td>\n",
       "      <td>28.0</td>\n",
       "      <td>1</td>\n",
       "    </tr>\n",
       "    <tr>\n",
       "      <th>2</th>\n",
       "      <td>FIN1000003</td>\n",
       "      <td>800001</td>\n",
       "      <td>4/16/2007</td>\n",
       "      <td>844101.0</td>\n",
       "      <td>M</td>\n",
       "      <td>1/16/1966</td>\n",
       "      <td>M</td>\n",
       "      <td>Business</td>\n",
       "      <td>Class XII</td>\n",
       "      <td>5/27/2006</td>\n",
       "      <td>...</td>\n",
       "      <td>Confirmation</td>\n",
       "      <td>M</td>\n",
       "      <td>3/3/1969</td>\n",
       "      <td>0.0</td>\n",
       "      <td>0.0</td>\n",
       "      <td>357184.0</td>\n",
       "      <td>24.0</td>\n",
       "      <td>357184.0</td>\n",
       "      <td>24.0</td>\n",
       "      <td>0</td>\n",
       "    </tr>\n",
       "    <tr>\n",
       "      <th>3</th>\n",
       "      <td>FIN1000004</td>\n",
       "      <td>814112</td>\n",
       "      <td>4/16/2007</td>\n",
       "      <td>814112.0</td>\n",
       "      <td>M</td>\n",
       "      <td>2/3/1988</td>\n",
       "      <td>S</td>\n",
       "      <td>Salaried</td>\n",
       "      <td>Class XII</td>\n",
       "      <td>8/21/2003</td>\n",
       "      <td>...</td>\n",
       "      <td>Confirmation</td>\n",
       "      <td>F</td>\n",
       "      <td>8/14/1978</td>\n",
       "      <td>0.0</td>\n",
       "      <td>0.0</td>\n",
       "      <td>318356.0</td>\n",
       "      <td>22.0</td>\n",
       "      <td>318356.0</td>\n",
       "      <td>22.0</td>\n",
       "      <td>0</td>\n",
       "    </tr>\n",
       "    <tr>\n",
       "      <th>4</th>\n",
       "      <td>FIN1000005</td>\n",
       "      <td>814112</td>\n",
       "      <td>4/16/2007</td>\n",
       "      <td>815351.0</td>\n",
       "      <td>M</td>\n",
       "      <td>7/4/1985</td>\n",
       "      <td>M</td>\n",
       "      <td>Others</td>\n",
       "      <td>Class XII</td>\n",
       "      <td>5/8/2006</td>\n",
       "      <td>...</td>\n",
       "      <td>Confirmation</td>\n",
       "      <td>M</td>\n",
       "      <td>2/7/1971</td>\n",
       "      <td>2.0</td>\n",
       "      <td>1.0</td>\n",
       "      <td>230402.0</td>\n",
       "      <td>17.0</td>\n",
       "      <td>230402.0</td>\n",
       "      <td>17.0</td>\n",
       "      <td>0</td>\n",
       "    </tr>\n",
       "  </tbody>\n",
       "</table>\n",
       "<p>5 rows × 23 columns</p>\n",
       "</div>"
      ],
      "text/plain": [
       "           ID  Office_PIN Application_Receipt_Date  Applicant_City_PIN  \\\n",
       "0  FIN1000001      842001                4/16/2007            844120.0   \n",
       "1  FIN1000002      842001                4/16/2007            844111.0   \n",
       "2  FIN1000003      800001                4/16/2007            844101.0   \n",
       "3  FIN1000004      814112                4/16/2007            814112.0   \n",
       "4  FIN1000005      814112                4/16/2007            815351.0   \n",
       "\n",
       "  Applicant_Gender Applicant_BirthDate Applicant_Marital_Status  \\\n",
       "0                M          12/19/1971                        M   \n",
       "1                M           2/17/1983                        S   \n",
       "2                M           1/16/1966                        M   \n",
       "3                M            2/3/1988                        S   \n",
       "4                M            7/4/1985                        M   \n",
       "\n",
       "  Applicant_Occupation Applicant_Qualification Manager_DOJ  ...  \\\n",
       "0               Others                Graduate  11/10/2005  ...   \n",
       "1               Others               Class XII  11/10/2005  ...   \n",
       "2             Business               Class XII   5/27/2006  ...   \n",
       "3             Salaried               Class XII   8/21/2003  ...   \n",
       "4               Others               Class XII    5/8/2006  ...   \n",
       "\n",
       "  Manager_Status Manager_Gender  Manager_DoB Manager_Num_Application  \\\n",
       "0   Confirmation              M    2/17/1978                     2.0   \n",
       "1   Confirmation              M    2/17/1978                     2.0   \n",
       "2   Confirmation              M     3/3/1969                     0.0   \n",
       "3   Confirmation              F    8/14/1978                     0.0   \n",
       "4   Confirmation              M     2/7/1971                     2.0   \n",
       "\n",
       "  Manager_Num_Coded Manager_Business  Manager_Num_Products  Manager_Business2  \\\n",
       "0               1.0         335249.0                  28.0           335249.0   \n",
       "1               1.0         335249.0                  28.0           335249.0   \n",
       "2               0.0         357184.0                  24.0           357184.0   \n",
       "3               0.0         318356.0                  22.0           318356.0   \n",
       "4               1.0         230402.0                  17.0           230402.0   \n",
       "\n",
       "   Manager_Num_Products2  Business_Sourced  \n",
       "0                   28.0                 0  \n",
       "1                   28.0                 1  \n",
       "2                   24.0                 0  \n",
       "3                   22.0                 0  \n",
       "4                   17.0                 0  \n",
       "\n",
       "[5 rows x 23 columns]"
      ]
     },
     "execution_count": 94,
     "metadata": {},
     "output_type": "execute_result"
    }
   ],
   "source": [
    "train = pd.read_csv('AV_train.csv')\n",
    "train.head()"
   ]
  },
  {
   "cell_type": "code",
   "execution_count": 95,
   "metadata": {},
   "outputs": [
    {
     "data": {
      "text/html": [
       "<div>\n",
       "<style scoped>\n",
       "    .dataframe tbody tr th:only-of-type {\n",
       "        vertical-align: middle;\n",
       "    }\n",
       "\n",
       "    .dataframe tbody tr th {\n",
       "        vertical-align: top;\n",
       "    }\n",
       "\n",
       "    .dataframe thead th {\n",
       "        text-align: right;\n",
       "    }\n",
       "</style>\n",
       "<table border=\"1\" class=\"dataframe\">\n",
       "  <thead>\n",
       "    <tr style=\"text-align: right;\">\n",
       "      <th></th>\n",
       "      <th>ID</th>\n",
       "      <th>Office_PIN</th>\n",
       "      <th>Application_Receipt_Date</th>\n",
       "      <th>Applicant_City_PIN</th>\n",
       "      <th>Applicant_Gender</th>\n",
       "      <th>Applicant_BirthDate</th>\n",
       "      <th>Applicant_Marital_Status</th>\n",
       "      <th>Applicant_Occupation</th>\n",
       "      <th>Applicant_Qualification</th>\n",
       "      <th>Manager_DOJ</th>\n",
       "      <th>...</th>\n",
       "      <th>Manager_Grade</th>\n",
       "      <th>Manager_Status</th>\n",
       "      <th>Manager_Gender</th>\n",
       "      <th>Manager_DoB</th>\n",
       "      <th>Manager_Num_Application</th>\n",
       "      <th>Manager_Num_Coded</th>\n",
       "      <th>Manager_Business</th>\n",
       "      <th>Manager_Num_Products</th>\n",
       "      <th>Manager_Business2</th>\n",
       "      <th>Manager_Num_Products2</th>\n",
       "    </tr>\n",
       "  </thead>\n",
       "  <tbody>\n",
       "    <tr>\n",
       "      <th>0</th>\n",
       "      <td>FIN1009528</td>\n",
       "      <td>284001</td>\n",
       "      <td>7/2/2008</td>\n",
       "      <td>284001.0</td>\n",
       "      <td>M</td>\n",
       "      <td>8/5/1982</td>\n",
       "      <td>S</td>\n",
       "      <td>Salaried</td>\n",
       "      <td>Graduate</td>\n",
       "      <td>5/26/2008</td>\n",
       "      <td>...</td>\n",
       "      <td>2.0</td>\n",
       "      <td>Probation</td>\n",
       "      <td>F</td>\n",
       "      <td>10/14/1978</td>\n",
       "      <td>1.0</td>\n",
       "      <td>0.0</td>\n",
       "      <td>0.0</td>\n",
       "      <td>0.0</td>\n",
       "      <td>0.0</td>\n",
       "      <td>0.0</td>\n",
       "    </tr>\n",
       "    <tr>\n",
       "      <th>1</th>\n",
       "      <td>FIN1009529</td>\n",
       "      <td>800001</td>\n",
       "      <td>7/2/2008</td>\n",
       "      <td>800026.0</td>\n",
       "      <td>M</td>\n",
       "      <td>3/11/1968</td>\n",
       "      <td>M</td>\n",
       "      <td>Salaried</td>\n",
       "      <td>Graduate</td>\n",
       "      <td>6/24/2008</td>\n",
       "      <td>...</td>\n",
       "      <td>2.0</td>\n",
       "      <td>Probation</td>\n",
       "      <td>M</td>\n",
       "      <td>3/3/1971</td>\n",
       "      <td>2.0</td>\n",
       "      <td>0.0</td>\n",
       "      <td>0.0</td>\n",
       "      <td>0.0</td>\n",
       "      <td>0.0</td>\n",
       "      <td>0.0</td>\n",
       "    </tr>\n",
       "    <tr>\n",
       "      <th>2</th>\n",
       "      <td>FIN1009530</td>\n",
       "      <td>800001</td>\n",
       "      <td>7/2/2008</td>\n",
       "      <td>NaN</td>\n",
       "      <td>M</td>\n",
       "      <td>12/16/1984</td>\n",
       "      <td>S</td>\n",
       "      <td>NaN</td>\n",
       "      <td>Graduate</td>\n",
       "      <td>NaN</td>\n",
       "      <td>...</td>\n",
       "      <td>NaN</td>\n",
       "      <td>NaN</td>\n",
       "      <td>NaN</td>\n",
       "      <td>NaN</td>\n",
       "      <td>NaN</td>\n",
       "      <td>NaN</td>\n",
       "      <td>NaN</td>\n",
       "      <td>NaN</td>\n",
       "      <td>NaN</td>\n",
       "      <td>NaN</td>\n",
       "    </tr>\n",
       "    <tr>\n",
       "      <th>3</th>\n",
       "      <td>FIN1009531</td>\n",
       "      <td>800001</td>\n",
       "      <td>7/2/2008</td>\n",
       "      <td>844112.0</td>\n",
       "      <td>M</td>\n",
       "      <td>6/7/1971</td>\n",
       "      <td>S</td>\n",
       "      <td>Salaried</td>\n",
       "      <td>Graduate</td>\n",
       "      <td>NaN</td>\n",
       "      <td>...</td>\n",
       "      <td>NaN</td>\n",
       "      <td>NaN</td>\n",
       "      <td>NaN</td>\n",
       "      <td>NaN</td>\n",
       "      <td>NaN</td>\n",
       "      <td>NaN</td>\n",
       "      <td>NaN</td>\n",
       "      <td>NaN</td>\n",
       "      <td>NaN</td>\n",
       "      <td>NaN</td>\n",
       "    </tr>\n",
       "    <tr>\n",
       "      <th>4</th>\n",
       "      <td>FIN1009532</td>\n",
       "      <td>533101</td>\n",
       "      <td>7/2/2008</td>\n",
       "      <td>533102.0</td>\n",
       "      <td>M</td>\n",
       "      <td>7/22/1978</td>\n",
       "      <td>S</td>\n",
       "      <td>NaN</td>\n",
       "      <td>Masters of Business Administration</td>\n",
       "      <td>12/4/2007</td>\n",
       "      <td>...</td>\n",
       "      <td>3.0</td>\n",
       "      <td>Confirmation</td>\n",
       "      <td>M</td>\n",
       "      <td>6/23/1977</td>\n",
       "      <td>4.0</td>\n",
       "      <td>1.0</td>\n",
       "      <td>97352.0</td>\n",
       "      <td>3.0</td>\n",
       "      <td>97352.0</td>\n",
       "      <td>3.0</td>\n",
       "    </tr>\n",
       "  </tbody>\n",
       "</table>\n",
       "<p>5 rows × 22 columns</p>\n",
       "</div>"
      ],
      "text/plain": [
       "           ID  Office_PIN Application_Receipt_Date  Applicant_City_PIN  \\\n",
       "0  FIN1009528      284001                 7/2/2008            284001.0   \n",
       "1  FIN1009529      800001                 7/2/2008            800026.0   \n",
       "2  FIN1009530      800001                 7/2/2008                 NaN   \n",
       "3  FIN1009531      800001                 7/2/2008            844112.0   \n",
       "4  FIN1009532      533101                 7/2/2008            533102.0   \n",
       "\n",
       "  Applicant_Gender Applicant_BirthDate Applicant_Marital_Status  \\\n",
       "0                M            8/5/1982                        S   \n",
       "1                M           3/11/1968                        M   \n",
       "2                M          12/16/1984                        S   \n",
       "3                M            6/7/1971                        S   \n",
       "4                M           7/22/1978                        S   \n",
       "\n",
       "  Applicant_Occupation             Applicant_Qualification Manager_DOJ  ...  \\\n",
       "0             Salaried                            Graduate   5/26/2008  ...   \n",
       "1             Salaried                            Graduate   6/24/2008  ...   \n",
       "2                  NaN                            Graduate         NaN  ...   \n",
       "3             Salaried                            Graduate         NaN  ...   \n",
       "4                  NaN  Masters of Business Administration   12/4/2007  ...   \n",
       "\n",
       "  Manager_Grade Manager_Status  Manager_Gender Manager_DoB  \\\n",
       "0           2.0      Probation               F  10/14/1978   \n",
       "1           2.0      Probation               M    3/3/1971   \n",
       "2           NaN            NaN             NaN         NaN   \n",
       "3           NaN            NaN             NaN         NaN   \n",
       "4           3.0   Confirmation               M   6/23/1977   \n",
       "\n",
       "  Manager_Num_Application Manager_Num_Coded  Manager_Business  \\\n",
       "0                     1.0               0.0               0.0   \n",
       "1                     2.0               0.0               0.0   \n",
       "2                     NaN               NaN               NaN   \n",
       "3                     NaN               NaN               NaN   \n",
       "4                     4.0               1.0           97352.0   \n",
       "\n",
       "   Manager_Num_Products  Manager_Business2  Manager_Num_Products2  \n",
       "0                   0.0                0.0                    0.0  \n",
       "1                   0.0                0.0                    0.0  \n",
       "2                   NaN                NaN                    NaN  \n",
       "3                   NaN                NaN                    NaN  \n",
       "4                   3.0            97352.0                    3.0  \n",
       "\n",
       "[5 rows x 22 columns]"
      ]
     },
     "execution_count": 95,
     "metadata": {},
     "output_type": "execute_result"
    }
   ],
   "source": [
    "test=pd.read_csv('AV_test.csv')\n",
    "test.head()"
   ]
  },
  {
   "cell_type": "code",
   "execution_count": 96,
   "metadata": {},
   "outputs": [
    {
     "data": {
      "text/html": [
       "<div>\n",
       "<style scoped>\n",
       "    .dataframe tbody tr th:only-of-type {\n",
       "        vertical-align: middle;\n",
       "    }\n",
       "\n",
       "    .dataframe tbody tr th {\n",
       "        vertical-align: top;\n",
       "    }\n",
       "\n",
       "    .dataframe thead th {\n",
       "        text-align: right;\n",
       "    }\n",
       "</style>\n",
       "<table border=\"1\" class=\"dataframe\">\n",
       "  <thead>\n",
       "    <tr style=\"text-align: right;\">\n",
       "      <th></th>\n",
       "      <th>ID</th>\n",
       "      <th>Business_Sourced</th>\n",
       "    </tr>\n",
       "  </thead>\n",
       "  <tbody>\n",
       "    <tr>\n",
       "      <th>0</th>\n",
       "      <td>FIN1009528</td>\n",
       "      <td>0.5</td>\n",
       "    </tr>\n",
       "    <tr>\n",
       "      <th>1</th>\n",
       "      <td>FIN1009529</td>\n",
       "      <td>0.5</td>\n",
       "    </tr>\n",
       "    <tr>\n",
       "      <th>2</th>\n",
       "      <td>FIN1009530</td>\n",
       "      <td>0.5</td>\n",
       "    </tr>\n",
       "    <tr>\n",
       "      <th>3</th>\n",
       "      <td>FIN1009531</td>\n",
       "      <td>0.5</td>\n",
       "    </tr>\n",
       "    <tr>\n",
       "      <th>4</th>\n",
       "      <td>FIN1009532</td>\n",
       "      <td>0.5</td>\n",
       "    </tr>\n",
       "  </tbody>\n",
       "</table>\n",
       "</div>"
      ],
      "text/plain": [
       "           ID  Business_Sourced\n",
       "0  FIN1009528               0.5\n",
       "1  FIN1009529               0.5\n",
       "2  FIN1009530               0.5\n",
       "3  FIN1009531               0.5\n",
       "4  FIN1009532               0.5"
      ]
     },
     "execution_count": 96,
     "metadata": {},
     "output_type": "execute_result"
    }
   ],
   "source": [
    "sub_file=pd.read_csv('AV_sub.csv')\n",
    "sub_file.head()"
   ]
  },
  {
   "cell_type": "code",
   "execution_count": 97,
   "metadata": {},
   "outputs": [
    {
     "data": {
      "text/plain": [
       "(5045, 2)"
      ]
     },
     "execution_count": 97,
     "metadata": {},
     "output_type": "execute_result"
    }
   ],
   "source": [
    "sub_file.shape"
   ]
  },
  {
   "cell_type": "code",
   "execution_count": 98,
   "metadata": {},
   "outputs": [
    {
     "data": {
      "text/plain": [
       "Index(['ID', 'Office_PIN', 'Application_Receipt_Date', 'Applicant_City_PIN',\n",
       "       'Applicant_Gender', 'Applicant_BirthDate', 'Applicant_Marital_Status',\n",
       "       'Applicant_Occupation', 'Applicant_Qualification', 'Manager_DOJ',\n",
       "       'Manager_Joining_Designation', 'Manager_Current_Designation',\n",
       "       'Manager_Grade', 'Manager_Status', 'Manager_Gender', 'Manager_DoB',\n",
       "       'Manager_Num_Application', 'Manager_Num_Coded', 'Manager_Business',\n",
       "       'Manager_Num_Products', 'Manager_Business2', 'Manager_Num_Products2',\n",
       "       'Business_Sourced'],\n",
       "      dtype='object')"
      ]
     },
     "execution_count": 98,
     "metadata": {},
     "output_type": "execute_result"
    }
   ],
   "source": [
    "train.columns"
   ]
  },
  {
   "cell_type": "code",
   "execution_count": 99,
   "metadata": {},
   "outputs": [
    {
     "data": {
      "text/plain": [
       "ID                             0.000000\n",
       "Office_PIN                     0.000000\n",
       "Application_Receipt_Date       0.000000\n",
       "Applicant_City_PIN             0.010182\n",
       "Applicant_Gender               0.007033\n",
       "Applicant_BirthDate            0.007662\n",
       "Applicant_Marital_Status       0.007662\n",
       "Applicant_Occupation           0.128162\n",
       "Applicant_Qualification        0.009027\n",
       "Manager_DOJ                    0.071691\n",
       "Manager_Joining_Designation    0.071691\n",
       "Manager_Current_Designation    0.071691\n",
       "Manager_Grade                  0.071691\n",
       "Manager_Status                 0.071691\n",
       "Manager_Gender                 0.071691\n",
       "Manager_DoB                    0.071691\n",
       "Manager_Num_Application        0.071691\n",
       "Manager_Num_Coded              0.071691\n",
       "Manager_Business               0.071691\n",
       "Manager_Num_Products           0.071691\n",
       "Manager_Business2              0.071691\n",
       "Manager_Num_Products2          0.071691\n",
       "Business_Sourced               0.000000\n",
       "dtype: float64"
      ]
     },
     "execution_count": 99,
     "metadata": {},
     "output_type": "execute_result"
    }
   ],
   "source": [
    "train.isnull().mean()"
   ]
  },
  {
   "cell_type": "code",
   "execution_count": 100,
   "metadata": {},
   "outputs": [
    {
     "data": {
      "text/plain": [
       "array([844120., 844111., 844101., ..., 754031., 816118., 571248.])"
      ]
     },
     "execution_count": 100,
     "metadata": {},
     "output_type": "execute_result"
    }
   ],
   "source": [
    "train['Applicant_City_PIN'].unique()"
   ]
  },
  {
   "cell_type": "code",
   "execution_count": 101,
   "metadata": {},
   "outputs": [
    {
     "data": {
      "text/plain": [
       "ID                              object\n",
       "Office_PIN                       int64\n",
       "Application_Receipt_Date        object\n",
       "Applicant_City_PIN             float64\n",
       "Applicant_Gender                object\n",
       "Applicant_BirthDate             object\n",
       "Applicant_Marital_Status        object\n",
       "Applicant_Occupation            object\n",
       "Applicant_Qualification         object\n",
       "Manager_DOJ                     object\n",
       "Manager_Joining_Designation     object\n",
       "Manager_Current_Designation     object\n",
       "Manager_Grade                  float64\n",
       "Manager_Status                  object\n",
       "Manager_Gender                  object\n",
       "Manager_DoB                     object\n",
       "Manager_Num_Application        float64\n",
       "Manager_Num_Coded              float64\n",
       "Manager_Business               float64\n",
       "Manager_Num_Products           float64\n",
       "Manager_Business2              float64\n",
       "Manager_Num_Products2          float64\n",
       "Business_Sourced                 int64\n",
       "dtype: object"
      ]
     },
     "execution_count": 101,
     "metadata": {},
     "output_type": "execute_result"
    }
   ],
   "source": [
    "train.dtypes"
   ]
  },
  {
   "cell_type": "markdown",
   "metadata": {},
   "source": [
    "# Dealing with all categorical values \n",
    "1. Imputation of Nan values in categorical data - by calculating mode and implementing it into code."
   ]
  },
  {
   "cell_type": "code",
   "execution_count": 102,
   "metadata": {},
   "outputs": [
    {
     "name": "stdout",
     "output_type": "stream",
     "text": [
      "Categorical Features:\n",
      "           ID Application_Receipt_Date Applicant_Gender Applicant_BirthDate  \\\n",
      "0  FIN1000001                4/16/2007                M          12/19/1971   \n",
      "1  FIN1000002                4/16/2007                M           2/17/1983   \n",
      "2  FIN1000003                4/16/2007                M           1/16/1966   \n",
      "3  FIN1000004                4/16/2007                M            2/3/1988   \n",
      "4  FIN1000005                4/16/2007                M            7/4/1985   \n",
      "\n",
      "  Applicant_Marital_Status Applicant_Occupation Applicant_Qualification  \\\n",
      "0                        M               Others                Graduate   \n",
      "1                        S               Others               Class XII   \n",
      "2                        M             Business               Class XII   \n",
      "3                        S             Salaried               Class XII   \n",
      "4                        M               Others               Class XII   \n",
      "\n",
      "  Manager_DOJ Manager_Joining_Designation Manager_Current_Designation  \\\n",
      "0  11/10/2005                     Level 1                     Level 2   \n",
      "1  11/10/2005                     Level 1                     Level 2   \n",
      "2   5/27/2006                     Level 1                     Level 1   \n",
      "3   8/21/2003                     Level 1                     Level 3   \n",
      "4    5/8/2006                     Level 1                     Level 1   \n",
      "\n",
      "  Manager_Status Manager_Gender Manager_DoB  \n",
      "0   Confirmation              M   2/17/1978  \n",
      "1   Confirmation              M   2/17/1978  \n",
      "2   Confirmation              M    3/3/1969  \n",
      "3   Confirmation              F   8/14/1978  \n",
      "4   Confirmation              M    2/7/1971  \n"
     ]
    }
   ],
   "source": [
    "categorical_data = train.select_dtypes(exclude=np.number) # we will exclude data with numeric features\n",
    "categorical_col = categorical_data.columns \n",
    "print(\"Categorical Features:\")\n",
    "print(categorical_data.head())"
   ]
  },
  {
   "cell_type": "code",
   "execution_count": 103,
   "metadata": {},
   "outputs": [],
   "source": [
    "def impute_na_non_numeric(train,var):\n",
    "    mode = train[var].mode().values[0]\n",
    "    train[var] = train[var].fillna(mode)"
   ]
  },
  {
   "cell_type": "code",
   "execution_count": 104,
   "metadata": {},
   "outputs": [],
   "source": [
    "impute_na_non_numeric(train,'Applicant_Marital_Status')\n",
    "impute_na_non_numeric(train,'Applicant_Gender')\n",
    "impute_na_non_numeric(train,'Applicant_Occupation')\n",
    "impute_na_non_numeric(train,'Applicant_Qualification')\n",
    "impute_na_non_numeric(train,'Manager_Joining_Designation')\n",
    "impute_na_non_numeric(train,'Manager_Current_Designation')\n",
    "impute_na_non_numeric(train,'Manager_Status')\n",
    "impute_na_non_numeric(train,'Manager_Gender')\n"
   ]
  },
  {
   "cell_type": "code",
   "execution_count": 105,
   "metadata": {},
   "outputs": [
    {
     "data": {
      "text/plain": [
       "ID                             0.000000\n",
       "Office_PIN                     0.000000\n",
       "Application_Receipt_Date       0.000000\n",
       "Applicant_City_PIN             0.010182\n",
       "Applicant_Gender               0.000000\n",
       "Applicant_BirthDate            0.007662\n",
       "Applicant_Marital_Status       0.000000\n",
       "Applicant_Occupation           0.000000\n",
       "Applicant_Qualification        0.000000\n",
       "Manager_DOJ                    0.071691\n",
       "Manager_Joining_Designation    0.000000\n",
       "Manager_Current_Designation    0.000000\n",
       "Manager_Grade                  0.071691\n",
       "Manager_Status                 0.000000\n",
       "Manager_Gender                 0.000000\n",
       "Manager_DoB                    0.071691\n",
       "Manager_Num_Application        0.071691\n",
       "Manager_Num_Coded              0.071691\n",
       "Manager_Business               0.071691\n",
       "Manager_Num_Products           0.071691\n",
       "Manager_Business2              0.071691\n",
       "Manager_Num_Products2          0.071691\n",
       "Business_Sourced               0.000000\n",
       "dtype: float64"
      ]
     },
     "execution_count": 105,
     "metadata": {},
     "output_type": "execute_result"
    }
   ],
   "source": [
    "train.isnull().mean()"
   ]
  },
  {
   "cell_type": "code",
   "execution_count": 106,
   "metadata": {},
   "outputs": [
    {
     "data": {
      "text/plain": [
       "array(['Graduate', 'Class XII', 'Class X',\n",
       "       'Masters of Business Administration',\n",
       "       'Associate/Fellow of Institute of Company Secretories of India',\n",
       "       'Associate / Fellow of Institute of Chartered Accountans of India',\n",
       "       'Others', 'Associate/Fellow of Insurance Institute of India',\n",
       "       'Associate/Fellow of Acturial Society of India',\n",
       "       'Certified Associateship of Indian Institute of Bankers',\n",
       "       'Professional Qualification in Marketing'], dtype=object)"
      ]
     },
     "execution_count": 106,
     "metadata": {},
     "output_type": "execute_result"
    }
   ],
   "source": [
    "train['Applicant_Qualification'].unique()"
   ]
  },
  {
   "cell_type": "markdown",
   "metadata": {},
   "source": [
    "# Handle all date related column\n",
    "1. From Applicant_BirthDate we can find out his/her age and can determine whether it is affecting our output value.\n",
    "2. From Manager_DoB we can find out manager's age \n",
    "3. We have split the date coulmn and extract year and that extracted year is minus from current year. "
   ]
  },
  {
   "cell_type": "code",
   "execution_count": 107,
   "metadata": {},
   "outputs": [],
   "source": [
    "import datetime as dt"
   ]
  },
  {
   "cell_type": "code",
   "execution_count": 108,
   "metadata": {},
   "outputs": [],
   "source": [
    "train['Applicant_year'] = pd.DatetimeIndex(train['Applicant_BirthDate']).year\n",
    "train['Manager_birthyear']=pd.DatetimeIndex(train['Manager_DoB']).year\n",
    "train['Manager_Joinging']=pd.DatetimeIndex(train['Manager_DOJ']).year"
   ]
  },
  {
   "cell_type": "code",
   "execution_count": 109,
   "metadata": {},
   "outputs": [
    {
     "name": "stdout",
     "output_type": "stream",
     "text": [
      "0      2020-09-11 14:20:25.274346\n",
      "1      2020-09-11 14:20:25.274346\n",
      "2      2020-09-11 14:20:25.274346\n",
      "3      2020-09-11 14:20:25.274346\n",
      "4      2020-09-11 14:20:25.274346\n",
      "                  ...            \n",
      "9522   2020-09-11 14:20:25.274346\n",
      "9523   2020-09-11 14:20:25.274346\n",
      "9524   2020-09-11 14:20:25.274346\n",
      "9525   2020-09-11 14:20:25.274346\n",
      "9526   2020-09-11 14:20:25.274346\n",
      "Name: Current_Date, Length: 9527, dtype: datetime64[ns]\n"
     ]
    }
   ],
   "source": [
    "train['Current_Date'] = dt.datetime.today()\n",
    "print (train['Current_Date'])"
   ]
  },
  {
   "cell_type": "code",
   "execution_count": 110,
   "metadata": {},
   "outputs": [],
   "source": [
    "train['Current_Date_year'] = pd.DatetimeIndex(train['Current_Date']).year"
   ]
  },
  {
   "cell_type": "code",
   "execution_count": 111,
   "metadata": {},
   "outputs": [],
   "source": [
    "train['APP_year'] = pd.DatetimeIndex(train['Application_Receipt_Date']).year \n",
    "train['App_month'] = pd.DatetimeIndex(train['Application_Receipt_Date']).month\n",
    "train['App_day'] = pd.DatetimeIndex(train['Application_Receipt_Date']).day"
   ]
  },
  {
   "cell_type": "code",
   "execution_count": 112,
   "metadata": {},
   "outputs": [],
   "source": [
    "train['age_applicant']= train['Current_Date_year']-train['Applicant_year']\n",
    "train['age_manager']= train['Current_Date_year']-train['Manager_birthyear']\n",
    "train['DOJ_Manager']= train['Current_Date_year']-train['Manager_Joinging']"
   ]
  },
  {
   "cell_type": "code",
   "execution_count": 113,
   "metadata": {},
   "outputs": [
    {
     "data": {
      "text/plain": [
       "array([15., 14., 17., 16., 18., 13., nan, 19., 12.])"
      ]
     },
     "execution_count": 113,
     "metadata": {},
     "output_type": "execute_result"
    }
   ],
   "source": [
    "train['DOJ_Manager'].unique()"
   ]
  },
  {
   "cell_type": "code",
   "execution_count": 114,
   "metadata": {},
   "outputs": [
    {
     "data": {
      "text/plain": [
       "Index(['ID', 'Office_PIN', 'Application_Receipt_Date', 'Applicant_City_PIN',\n",
       "       'Applicant_Gender', 'Applicant_BirthDate', 'Applicant_Marital_Status',\n",
       "       'Applicant_Occupation', 'Applicant_Qualification', 'Manager_DOJ',\n",
       "       'Manager_Joining_Designation', 'Manager_Current_Designation',\n",
       "       'Manager_Grade', 'Manager_Status', 'Manager_Gender', 'Manager_DoB',\n",
       "       'Manager_Num_Application', 'Manager_Num_Coded', 'Manager_Business',\n",
       "       'Manager_Num_Products', 'Manager_Business2', 'Manager_Num_Products2',\n",
       "       'Business_Sourced', 'Applicant_year', 'Manager_birthyear',\n",
       "       'Manager_Joinging', 'Current_Date', 'Current_Date_year', 'APP_year',\n",
       "       'App_month', 'App_day', 'age_applicant', 'age_manager', 'DOJ_Manager'],\n",
       "      dtype='object')"
      ]
     },
     "execution_count": 114,
     "metadata": {},
     "output_type": "execute_result"
    }
   ],
   "source": [
    "train.columns"
   ]
  },
  {
   "cell_type": "markdown",
   "metadata": {},
   "source": [
    "# Handling the numeric missing values "
   ]
  },
  {
   "cell_type": "code",
   "execution_count": 115,
   "metadata": {},
   "outputs": [],
   "source": [
    " def impute_na_numeric(train,var):\n",
    "    mean = train[var].mean()\n",
    "    median = train[var].median()\n",
    "    \n",
    "    train[var+\"_mean\"] = train[var].fillna(mean)\n",
    "    train[var+\"_median\"] = train[var].fillna(median)\n",
    "    \n",
    "    var_original = train[var].std()**2\n",
    "    var_mean = train[var+\"_mean\"].std()**2\n",
    "    var_median = train[var+\"_median\"].std()**2\n",
    "    \n",
    "    print(\"Original Variance: \",var_original)\n",
    "    print(\"Mean Variance: \",var_mean)\n",
    "    print(\"Median Variance: \",var_median)\n",
    "    \n",
    "    if((var_mean < var_original) | (var_median < var_original)):\n",
    "        if(var_mean < var_median):\n",
    "            train[var] = train[var+\"_mean\"]\n",
    "        else:\n",
    "            train[var] = train[var+\"_median\"]\n",
    "    else:\n",
    "        train.drop([var+\"_mean\",var+\"_median\"], axis=1, inplace=True)"
   ]
  },
  {
   "cell_type": "code",
   "execution_count": 116,
   "metadata": {},
   "outputs": [
    {
     "name": "stdout",
     "output_type": "stream",
     "text": [
      "Original Variance:  1.4128739481890893\n",
      "Mean Variance:  1.3115729922145833\n",
      "Median Variance:  1.349909197592771\n",
      "Original Variance:  4.624774145679003\n",
      "Mean Variance:  4.293184733385839\n",
      "Median Variance:  4.35196232566714\n",
      "Original Variance:  75469058174.73997\n",
      "Mean Variance:  70058039202.1023\n",
      "Median Variance:  70507686594.20103\n",
      "Original Variance:  71.22264423209431\n",
      "Mean Variance:  66.11608680919662\n",
      "Median Variance:  66.42441340622734\n",
      "Original Variance:  73876406513.05208\n",
      "Mean Variance:  68579578290.460014\n",
      "Median Variance:  69018560364.30627\n",
      "Original Variance:  70.95698170451914\n",
      "Mean Variance:  65.86947188883896\n",
      "Median Variance:  66.1718023149997\n",
      "Original Variance:  1.2937898072475547\n",
      "Mean Variance:  1.2010270066648574\n",
      "Median Variance:  1.2056705649839266\n",
      "Original Variance:  57260221545.10911\n",
      "Mean Variance:  56677160292.760124\n",
      "Median Variance:  56689351649.70554\n",
      "Original Variance:  105.95438736679313\n",
      "Mean Variance:  105.14243373696145\n",
      "Median Variance:  105.17949203057391\n",
      "Original Variance:  40.10552067057852\n",
      "Mean Variance:  37.230014622077924\n",
      "Median Variance:  37.334652758005625\n",
      "Original Variance:  3.30113829759433\n",
      "Mean Variance:  3.0644516025222193\n",
      "Median Variance:  3.066867647627133\n"
     ]
    }
   ],
   "source": [
    "impute_na_numeric(train,'Manager_Num_Coded')\n",
    "impute_na_numeric(train,'Manager_Num_Application')\n",
    "impute_na_numeric(train,'Manager_Business')\n",
    "impute_na_numeric(train,'Manager_Num_Products')\n",
    "impute_na_numeric(train,'Manager_Business2')\n",
    "impute_na_numeric(train,'Manager_Num_Products2')\n",
    "impute_na_numeric(train,'Manager_Grade')\n",
    "impute_na_numeric(train,'Applicant_City_PIN')\n",
    "impute_na_numeric(train,'age_applicant')\n",
    "impute_na_numeric(train,'age_manager')\n",
    "impute_na_numeric(train,'DOJ_Manager')"
   ]
  },
  {
   "cell_type": "code",
   "execution_count": 117,
   "metadata": {},
   "outputs": [
    {
     "data": {
      "text/plain": [
       "ID                                0.000000\n",
       "Office_PIN                        0.000000\n",
       "Application_Receipt_Date          0.000000\n",
       "Applicant_City_PIN                0.000000\n",
       "Applicant_Gender                  0.000000\n",
       "Applicant_BirthDate               0.007662\n",
       "Applicant_Marital_Status          0.000000\n",
       "Applicant_Occupation              0.000000\n",
       "Applicant_Qualification           0.000000\n",
       "Manager_DOJ                       0.071691\n",
       "Manager_Joining_Designation       0.000000\n",
       "Manager_Current_Designation       0.000000\n",
       "Manager_Grade                     0.000000\n",
       "Manager_Status                    0.000000\n",
       "Manager_Gender                    0.000000\n",
       "Manager_DoB                       0.071691\n",
       "Manager_Num_Application           0.000000\n",
       "Manager_Num_Coded                 0.000000\n",
       "Manager_Business                  0.000000\n",
       "Manager_Num_Products              0.000000\n",
       "Manager_Business2                 0.000000\n",
       "Manager_Num_Products2             0.000000\n",
       "Business_Sourced                  0.000000\n",
       "Applicant_year                    0.007662\n",
       "Manager_birthyear                 0.071691\n",
       "Manager_Joinging                  0.071691\n",
       "Current_Date                      0.000000\n",
       "Current_Date_year                 0.000000\n",
       "APP_year                          0.000000\n",
       "App_month                         0.000000\n",
       "App_day                           0.000000\n",
       "age_applicant                     0.000000\n",
       "age_manager                       0.000000\n",
       "DOJ_Manager                       0.000000\n",
       "Manager_Num_Coded_mean            0.000000\n",
       "Manager_Num_Coded_median          0.000000\n",
       "Manager_Num_Application_mean      0.000000\n",
       "Manager_Num_Application_median    0.000000\n",
       "Manager_Business_mean             0.000000\n",
       "Manager_Business_median           0.000000\n",
       "Manager_Num_Products_mean         0.000000\n",
       "Manager_Num_Products_median       0.000000\n",
       "Manager_Business2_mean            0.000000\n",
       "Manager_Business2_median          0.000000\n",
       "Manager_Num_Products2_mean        0.000000\n",
       "Manager_Num_Products2_median      0.000000\n",
       "Manager_Grade_mean                0.000000\n",
       "Manager_Grade_median              0.000000\n",
       "Applicant_City_PIN_mean           0.000000\n",
       "Applicant_City_PIN_median         0.000000\n",
       "age_applicant_mean                0.000000\n",
       "age_applicant_median              0.000000\n",
       "age_manager_mean                  0.000000\n",
       "age_manager_median                0.000000\n",
       "DOJ_Manager_mean                  0.000000\n",
       "DOJ_Manager_median                0.000000\n",
       "dtype: float64"
      ]
     },
     "execution_count": 117,
     "metadata": {},
     "output_type": "execute_result"
    }
   ],
   "source": [
    "train.isnull().mean()"
   ]
  },
  {
   "cell_type": "code",
   "execution_count": 118,
   "metadata": {},
   "outputs": [
    {
     "data": {
      "text/plain": [
       "array([0, 1])"
      ]
     },
     "execution_count": 118,
     "metadata": {},
     "output_type": "execute_result"
    }
   ],
   "source": [
    "train['Business_Sourced'].unique()"
   ]
  },
  {
   "cell_type": "code",
   "execution_count": 119,
   "metadata": {},
   "outputs": [
    {
     "data": {
      "text/plain": [
       "array([ 28.        ,  24.        ,  22.        ,  17.        ,\n",
       "        27.        ,   9.        ,  39.        ,  10.        ,\n",
       "        14.        ,  13.        ,  19.        ,   7.        ,\n",
       "        20.        ,   1.        ,  30.        ,   7.15230665,\n",
       "        15.        ,  18.        ,  16.        ,  23.        ,\n",
       "        21.        ,  11.        ,   0.        ,  51.        ,\n",
       "        74.        ,  12.        ,  35.        ,  36.        ,\n",
       "         6.        ,   2.        ,   4.        ,   5.        ,\n",
       "         8.        ,   3.        ,  33.        ,  25.        ,\n",
       "        59.        ,  66.        ,  32.        ,  29.        ,\n",
       "        26.        ,  31.        ,  45.        ,  46.        ,\n",
       "        42.        ,  38.        ,  44.        ,  41.        ,\n",
       "        34.        , 101.        ,  37.        ,  60.        ,\n",
       "        43.        ,  48.        ,  47.        ,  61.        ,\n",
       "        53.        ,  40.        ])"
      ]
     },
     "execution_count": 119,
     "metadata": {},
     "output_type": "execute_result"
    }
   ],
   "source": [
    "train['Manager_Num_Products'].unique()"
   ]
  },
  {
   "cell_type": "code",
   "execution_count": 120,
   "metadata": {},
   "outputs": [
    {
     "name": "stdout",
     "output_type": "stream",
     "text": [
      "Original Variance:  105.95438736679466\n",
      "Mean Variance:  105.1424337369625\n",
      "Median Variance:  105.17949203057424\n",
      "Original Variance:  40.105520670578585\n",
      "Mean Variance:  37.23001462207769\n",
      "Median Variance:  37.334652758005575\n",
      "Original Variance:  3.3011382975943535\n",
      "Mean Variance:  3.064451602522151\n",
      "Median Variance:  3.0668676476271224\n"
     ]
    }
   ],
   "source": [
    "impute_na_numeric(train,'Applicant_year')\n",
    "impute_na_numeric(train,'Manager_birthyear')\n",
    "impute_na_numeric(train,'Manager_Joinging')"
   ]
  },
  {
   "cell_type": "code",
   "execution_count": 121,
   "metadata": {},
   "outputs": [
    {
     "data": {
      "text/plain": [
       "(array([0, 1]), [Text(0, 0, 'M'), Text(1, 0, 'F')])"
      ]
     },
     "execution_count": 121,
     "metadata": {},
     "output_type": "execute_result"
    },
    {
     "data": {
      "image/png": "[encoded data removed]",
      "text/plain": [
       "<Figure size 576x396 with 1 Axes>"
      ]
     },
     "metadata": {},
     "output_type": "display_data"
    }
   ],
   "source": [
    "column=sns.countplot(x=train['Applicant_Gender'],hue=train['Business_Sourced'],data=train)\n",
    "plt.title(column)    \n",
    "plt.xticks(rotation=90)"
   ]
  },
  {
   "cell_type": "code",
   "execution_count": 122,
   "metadata": {},
   "outputs": [
    {
     "data": {
      "text/plain": [
       "(array([0, 1, 2, 3, 4]),\n",
       " [Text(0, 0, 'Others'),\n",
       "  Text(1, 0, 'Business'),\n",
       "  Text(2, 0, 'Salaried'),\n",
       "  Text(3, 0, 'Self Employed'),\n",
       "  Text(4, 0, 'Student')])"
      ]
     },
     "execution_count": 122,
     "metadata": {},
     "output_type": "execute_result"
    },
    {
     "data": {
      "image/png": "[encoded data removed]",
      "text/plain": [
       "<Figure size 576x396 with 1 Axes>"
      ]
     },
     "metadata": {},
     "output_type": "display_data"
    }
   ],
   "source": [
    "column=sns.countplot(x=train['Applicant_Occupation'],hue=train['Business_Sourced'],data=train)\n",
    "plt.title(column)    \n",
    "plt.xticks(rotation=90)"
   ]
  },
  {
   "cell_type": "code",
   "execution_count": 123,
   "metadata": {},
   "outputs": [
    {
     "name": "stdout",
     "output_type": "stream",
     "text": [
      "0    65.707988\n",
      "1    34.292012\n",
      "Name: Business_Sourced, dtype: float64\n"
     ]
    }
   ],
   "source": [
    "class_values = (train['Business_Sourced'].value_counts()/train['Business_Sourced'].value_counts().sum())*100\n",
    "print(class_values)"
   ]
  },
  {
   "cell_type": "code",
   "execution_count": 124,
   "metadata": {},
   "outputs": [],
   "source": [
    "from sklearn.preprocessing import LabelEncoder"
   ]
  },
  {
   "cell_type": "code",
   "execution_count": 125,
   "metadata": {},
   "outputs": [],
   "source": [
    "labelencod=LabelEncoder()\n",
    "train['Applicant_Gender']=labelencod.fit_transform(train['Applicant_Gender'])\n",
    "train['Applicant_Marital_Status']=labelencod.fit_transform(train['Applicant_Marital_Status'])\n",
    "train['Applicant_Occupation']=labelencod.fit_transform(train['Applicant_Occupation'])\n",
    "train['Applicant_Qualification']=labelencod.fit_transform(train['Applicant_Qualification'])\n",
    "train['Manager_Joining_Designation']=labelencod.fit_transform(train['Manager_Joining_Designation'])\n",
    "train['Manager_Current_Designation']=labelencod.fit_transform(train['Manager_Current_Designation'])\n",
    "train['Manager_Status']=labelencod.fit_transform(train['Manager_Status'])\n",
    "train['Manager_Gender']=labelencod.fit_transform(train['Manager_Gender'])\n"
   ]
  },
  {
   "cell_type": "code",
   "execution_count": 126,
   "metadata": {},
   "outputs": [
    {
     "data": {
      "text/html": [
       "<div>\n",
       "<style scoped>\n",
       "    .dataframe tbody tr th:only-of-type {\n",
       "        vertical-align: middle;\n",
       "    }\n",
       "\n",
       "    .dataframe tbody tr th {\n",
       "        vertical-align: top;\n",
       "    }\n",
       "\n",
       "    .dataframe thead th {\n",
       "        text-align: right;\n",
       "    }\n",
       "</style>\n",
       "<table border=\"1\" class=\"dataframe\">\n",
       "  <thead>\n",
       "    <tr style=\"text-align: right;\">\n",
       "      <th></th>\n",
       "      <th>ID</th>\n",
       "      <th>Office_PIN</th>\n",
       "      <th>Application_Receipt_Date</th>\n",
       "      <th>Applicant_City_PIN</th>\n",
       "      <th>Applicant_Gender</th>\n",
       "      <th>Applicant_BirthDate</th>\n",
       "      <th>Applicant_Marital_Status</th>\n",
       "      <th>Applicant_Occupation</th>\n",
       "      <th>Applicant_Qualification</th>\n",
       "      <th>Manager_DOJ</th>\n",
       "      <th>...</th>\n",
       "      <th>age_manager_mean</th>\n",
       "      <th>age_manager_median</th>\n",
       "      <th>DOJ_Manager_mean</th>\n",
       "      <th>DOJ_Manager_median</th>\n",
       "      <th>Applicant_year_mean</th>\n",
       "      <th>Applicant_year_median</th>\n",
       "      <th>Manager_birthyear_mean</th>\n",
       "      <th>Manager_birthyear_median</th>\n",
       "      <th>Manager_Joinging_mean</th>\n",
       "      <th>Manager_Joinging_median</th>\n",
       "    </tr>\n",
       "  </thead>\n",
       "  <tbody>\n",
       "    <tr>\n",
       "      <th>0</th>\n",
       "      <td>FIN1000001</td>\n",
       "      <td>842001</td>\n",
       "      <td>4/16/2007</td>\n",
       "      <td>844120.0</td>\n",
       "      <td>1</td>\n",
       "      <td>12/19/1971</td>\n",
       "      <td>1</td>\n",
       "      <td>1</td>\n",
       "      <td>7</td>\n",
       "      <td>11/10/2005</td>\n",
       "      <td>...</td>\n",
       "      <td>42.0</td>\n",
       "      <td>42.0</td>\n",
       "      <td>15.0</td>\n",
       "      <td>15.0</td>\n",
       "      <td>1971.0</td>\n",
       "      <td>1971.0</td>\n",
       "      <td>1978.0</td>\n",
       "      <td>1978.0</td>\n",
       "      <td>2005.0</td>\n",
       "      <td>2005.0</td>\n",
       "    </tr>\n",
       "    <tr>\n",
       "      <th>1</th>\n",
       "      <td>FIN1000002</td>\n",
       "      <td>842001</td>\n",
       "      <td>4/16/2007</td>\n",
       "      <td>844111.0</td>\n",
       "      <td>1</td>\n",
       "      <td>2/17/1983</td>\n",
       "      <td>2</td>\n",
       "      <td>1</td>\n",
       "      <td>6</td>\n",
       "      <td>11/10/2005</td>\n",
       "      <td>...</td>\n",
       "      <td>42.0</td>\n",
       "      <td>42.0</td>\n",
       "      <td>15.0</td>\n",
       "      <td>15.0</td>\n",
       "      <td>1983.0</td>\n",
       "      <td>1983.0</td>\n",
       "      <td>1978.0</td>\n",
       "      <td>1978.0</td>\n",
       "      <td>2005.0</td>\n",
       "      <td>2005.0</td>\n",
       "    </tr>\n",
       "    <tr>\n",
       "      <th>2</th>\n",
       "      <td>FIN1000003</td>\n",
       "      <td>800001</td>\n",
       "      <td>4/16/2007</td>\n",
       "      <td>844101.0</td>\n",
       "      <td>1</td>\n",
       "      <td>1/16/1966</td>\n",
       "      <td>1</td>\n",
       "      <td>0</td>\n",
       "      <td>6</td>\n",
       "      <td>5/27/2006</td>\n",
       "      <td>...</td>\n",
       "      <td>51.0</td>\n",
       "      <td>51.0</td>\n",
       "      <td>14.0</td>\n",
       "      <td>14.0</td>\n",
       "      <td>1966.0</td>\n",
       "      <td>1966.0</td>\n",
       "      <td>1969.0</td>\n",
       "      <td>1969.0</td>\n",
       "      <td>2006.0</td>\n",
       "      <td>2006.0</td>\n",
       "    </tr>\n",
       "    <tr>\n",
       "      <th>3</th>\n",
       "      <td>FIN1000004</td>\n",
       "      <td>814112</td>\n",
       "      <td>4/16/2007</td>\n",
       "      <td>814112.0</td>\n",
       "      <td>1</td>\n",
       "      <td>2/3/1988</td>\n",
       "      <td>2</td>\n",
       "      <td>2</td>\n",
       "      <td>6</td>\n",
       "      <td>8/21/2003</td>\n",
       "      <td>...</td>\n",
       "      <td>42.0</td>\n",
       "      <td>42.0</td>\n",
       "      <td>17.0</td>\n",
       "      <td>17.0</td>\n",
       "      <td>1988.0</td>\n",
       "      <td>1988.0</td>\n",
       "      <td>1978.0</td>\n",
       "      <td>1978.0</td>\n",
       "      <td>2003.0</td>\n",
       "      <td>2003.0</td>\n",
       "    </tr>\n",
       "    <tr>\n",
       "      <th>4</th>\n",
       "      <td>FIN1000005</td>\n",
       "      <td>814112</td>\n",
       "      <td>4/16/2007</td>\n",
       "      <td>815351.0</td>\n",
       "      <td>1</td>\n",
       "      <td>7/4/1985</td>\n",
       "      <td>1</td>\n",
       "      <td>1</td>\n",
       "      <td>6</td>\n",
       "      <td>5/8/2006</td>\n",
       "      <td>...</td>\n",
       "      <td>49.0</td>\n",
       "      <td>49.0</td>\n",
       "      <td>14.0</td>\n",
       "      <td>14.0</td>\n",
       "      <td>1985.0</td>\n",
       "      <td>1985.0</td>\n",
       "      <td>1971.0</td>\n",
       "      <td>1971.0</td>\n",
       "      <td>2006.0</td>\n",
       "      <td>2006.0</td>\n",
       "    </tr>\n",
       "  </tbody>\n",
       "</table>\n",
       "<p>5 rows × 62 columns</p>\n",
       "</div>"
      ],
      "text/plain": [
       "           ID  Office_PIN Application_Receipt_Date  Applicant_City_PIN  \\\n",
       "0  FIN1000001      842001                4/16/2007            844120.0   \n",
       "1  FIN1000002      842001                4/16/2007            844111.0   \n",
       "2  FIN1000003      800001                4/16/2007            844101.0   \n",
       "3  FIN1000004      814112                4/16/2007            814112.0   \n",
       "4  FIN1000005      814112                4/16/2007            815351.0   \n",
       "\n",
       "   Applicant_Gender Applicant_BirthDate  Applicant_Marital_Status  \\\n",
       "0                 1          12/19/1971                         1   \n",
       "1                 1           2/17/1983                         2   \n",
       "2                 1           1/16/1966                         1   \n",
       "3                 1            2/3/1988                         2   \n",
       "4                 1            7/4/1985                         1   \n",
       "\n",
       "   Applicant_Occupation  Applicant_Qualification Manager_DOJ  ...  \\\n",
       "0                     1                        7  11/10/2005  ...   \n",
       "1                     1                        6  11/10/2005  ...   \n",
       "2                     0                        6   5/27/2006  ...   \n",
       "3                     2                        6   8/21/2003  ...   \n",
       "4                     1                        6    5/8/2006  ...   \n",
       "\n",
       "   age_manager_mean  age_manager_median  DOJ_Manager_mean  DOJ_Manager_median  \\\n",
       "0              42.0                42.0              15.0                15.0   \n",
       "1              42.0                42.0              15.0                15.0   \n",
       "2              51.0                51.0              14.0                14.0   \n",
       "3              42.0                42.0              17.0                17.0   \n",
       "4              49.0                49.0              14.0                14.0   \n",
       "\n",
       "   Applicant_year_mean Applicant_year_median  Manager_birthyear_mean  \\\n",
       "0               1971.0                1971.0                  1978.0   \n",
       "1               1983.0                1983.0                  1978.0   \n",
       "2               1966.0                1966.0                  1969.0   \n",
       "3               1988.0                1988.0                  1978.0   \n",
       "4               1985.0                1985.0                  1971.0   \n",
       "\n",
       "   Manager_birthyear_median  Manager_Joinging_mean  Manager_Joinging_median  \n",
       "0                    1978.0                 2005.0                   2005.0  \n",
       "1                    1978.0                 2005.0                   2005.0  \n",
       "2                    1969.0                 2006.0                   2006.0  \n",
       "3                    1978.0                 2003.0                   2003.0  \n",
       "4                    1971.0                 2006.0                   2006.0  \n",
       "\n",
       "[5 rows x 62 columns]"
      ]
     },
     "execution_count": 126,
     "metadata": {},
     "output_type": "execute_result"
    }
   ],
   "source": [
    "train.head()"
   ]
  },
  {
   "cell_type": "code",
   "execution_count": 127,
   "metadata": {},
   "outputs": [
    {
     "name": "stdout",
     "output_type": "stream",
     "text": [
      "Office_PIN                        469013.0\n",
      "Applicant_City_PIN                468990.5\n",
      "Applicant_Gender                       0.0\n",
      "Applicant_Marital_Status               1.0\n",
      "Applicant_Occupation                   1.0\n",
      "Applicant_Qualification                1.0\n",
      "Manager_Joining_Designation            1.0\n",
      "Manager_Current_Designation            2.0\n",
      "Manager_Grade                          2.0\n",
      "Manager_Status                         1.0\n",
      "Manager_Gender                         0.0\n",
      "Manager_Num_Application                3.0\n",
      "Manager_Num_Coded                      1.0\n",
      "Manager_Business                  232913.0\n",
      "Manager_Num_Products                  11.0\n",
      "Manager_Business2                 231520.0\n",
      "Manager_Num_Products2                 11.0\n",
      "Business_Sourced                       1.0\n",
      "Applicant_year                        12.0\n",
      "Manager_birthyear                      8.0\n",
      "Manager_Joinging                       2.0\n",
      "Current_Date_year                      0.0\n",
      "APP_year                               1.0\n",
      "App_month                              4.0\n",
      "App_day                               13.0\n",
      "age_applicant                         12.0\n",
      "age_manager                            8.0\n",
      "DOJ_Manager                            2.0\n",
      "Manager_Num_Coded_mean                 1.0\n",
      "Manager_Num_Coded_median               1.0\n",
      "Manager_Num_Application_mean           3.0\n",
      "Manager_Num_Application_median         3.0\n",
      "Manager_Business_mean             232913.0\n",
      "Manager_Business_median           232913.0\n",
      "Manager_Num_Products_mean             11.0\n",
      "Manager_Num_Products_median           11.0\n",
      "Manager_Business2_mean            231520.0\n",
      "Manager_Business2_median          231520.0\n",
      "Manager_Num_Products2_mean            11.0\n",
      "Manager_Num_Products2_median          11.0\n",
      "Manager_Grade_mean                     2.0\n",
      "Manager_Grade_median                   2.0\n",
      "Applicant_City_PIN_mean           468990.5\n",
      "Applicant_City_PIN_median         468990.5\n",
      "age_applicant_mean                    12.0\n",
      "age_applicant_median                  12.0\n",
      "age_manager_mean                       8.0\n",
      "age_manager_median                     8.0\n",
      "DOJ_Manager_mean                       2.0\n",
      "DOJ_Manager_median                     2.0\n",
      "Applicant_year_mean                   12.0\n",
      "Applicant_year_median                 12.0\n",
      "Manager_birthyear_mean                 8.0\n",
      "Manager_birthyear_median               8.0\n",
      "Manager_Joinging_mean                  2.0\n",
      "Manager_Joinging_median                2.0\n",
      "dtype: float64\n"
     ]
    }
   ],
   "source": [
    "Q1 = train.quantile(0.25)\n",
    "Q3 = train.quantile(0.75)\n",
    "IQR = Q3 - Q1\n",
    "print(IQR)"
   ]
  },
  {
   "cell_type": "code",
   "execution_count": 128,
   "metadata": {},
   "outputs": [],
   "source": [
    "#drop_cols=['ID','Office_PIN','Applicant_City_PIN','Applicant_BirthDate','Manager_DOJ','Manager_DoB','']"
   ]
  },
  {
   "cell_type": "code",
   "execution_count": 129,
   "metadata": {},
   "outputs": [],
   "source": [
    "import numpy as np"
   ]
  },
  {
   "cell_type": "code",
   "execution_count": 130,
   "metadata": {},
   "outputs": [],
   "source": [
    "cut_off = IQR * 1.5\n",
    "lower, upper = Q1 - cut_off, Q3 + cut_off"
   ]
  },
  {
   "cell_type": "code",
   "execution_count": 131,
   "metadata": {},
   "outputs": [
    {
     "data": {
      "image/png": "[encoded data removed]",
      "text/plain": [
       "<Figure size 576x396 with 1 Axes>"
      ]
     },
     "metadata": {},
     "output_type": "display_data"
    }
   ],
   "source": [
    "g = sns.distplot(train[\"Manager_Business\"], color=\"m\", label=\"Skewness : %.2f\"%(train[\"Manager_Business\"].skew()))\n",
    "g = g.legend(loc=\"best\")"
   ]
  },
  {
   "cell_type": "code",
   "execution_count": 132,
   "metadata": {},
   "outputs": [
    {
     "data": {
      "image/png": "[encoded data removed]",
      "text/plain": [
       "<Figure size 576x396 with 1 Axes>"
      ]
     },
     "metadata": {},
     "output_type": "display_data"
    }
   ],
   "source": [
    "g = sns.distplot(train[\"Manager_Business2\"], color=\"m\", label=\"Skewness : %.2f\"%(train[\"Manager_Business2\"].skew()))\n",
    "g = g.legend(loc=\"best\")"
   ]
  },
  {
   "cell_type": "code",
   "execution_count": 133,
   "metadata": {},
   "outputs": [],
   "source": [
    "train[\"Manager_Business\"] = train[\"Manager_Business\"].map(lambda i: np.log(i) if i > 0 else 0)"
   ]
  },
  {
   "cell_type": "code",
   "execution_count": 134,
   "metadata": {},
   "outputs": [],
   "source": [
    "train[\"Applicant_City_PIN\"] = train[\"Applicant_City_PIN\"].map(lambda i: np.log(i) if i > 0 else 0)"
   ]
  },
  {
   "cell_type": "code",
   "execution_count": 135,
   "metadata": {},
   "outputs": [],
   "source": [
    "train[\"Manager_Business2\"] = train[\"Manager_Business2\"].map(lambda i: np.log(i) if i > 0 else 0)"
   ]
  },
  {
   "cell_type": "code",
   "execution_count": 136,
   "metadata": {},
   "outputs": [],
   "source": [
    "#Application_Receipt_Date,Applicant_BirthDate,Applicant_year,Manager_birthyear,Manager_Joinging"
   ]
  },
  {
   "cell_type": "code",
   "execution_count": 137,
   "metadata": {},
   "outputs": [],
   "source": [
    "drop_cols= ['ID','Office_PIN','Application_Receipt_Date','Applicant_BirthDate','Manager_DOJ','Manager_DoB','Applicant_year','Manager_birthyear','Manager_Joinging','Current_Date']\n",
    "\n"
   ]
  },
  {
   "cell_type": "code",
   "execution_count": 138,
   "metadata": {},
   "outputs": [
    {
     "data": {
      "text/plain": [
       "Index(['ID', 'Office_PIN', 'Application_Receipt_Date', 'Applicant_City_PIN',\n",
       "       'Applicant_Gender', 'Applicant_BirthDate', 'Applicant_Marital_Status',\n",
       "       'Applicant_Occupation', 'Applicant_Qualification', 'Manager_DOJ',\n",
       "       'Manager_Joining_Designation', 'Manager_Current_Designation',\n",
       "       'Manager_Grade', 'Manager_Status', 'Manager_Gender', 'Manager_DoB',\n",
       "       'Manager_Num_Application', 'Manager_Num_Coded', 'Manager_Business',\n",
       "       'Manager_Num_Products', 'Manager_Business2', 'Manager_Num_Products2',\n",
       "       'Business_Sourced', 'Applicant_year', 'Manager_birthyear',\n",
       "       'Manager_Joinging', 'Current_Date', 'Current_Date_year', 'APP_year',\n",
       "       'App_month', 'App_day', 'age_applicant', 'age_manager', 'DOJ_Manager',\n",
       "       'Manager_Num_Coded_mean', 'Manager_Num_Coded_median',\n",
       "       'Manager_Num_Application_mean', 'Manager_Num_Application_median',\n",
       "       'Manager_Business_mean', 'Manager_Business_median',\n",
       "       'Manager_Num_Products_mean', 'Manager_Num_Products_median',\n",
       "       'Manager_Business2_mean', 'Manager_Business2_median',\n",
       "       'Manager_Num_Products2_mean', 'Manager_Num_Products2_median',\n",
       "       'Manager_Grade_mean', 'Manager_Grade_median', 'Applicant_City_PIN_mean',\n",
       "       'Applicant_City_PIN_median', 'age_applicant_mean',\n",
       "       'age_applicant_median', 'age_manager_mean', 'age_manager_median',\n",
       "       'DOJ_Manager_mean', 'DOJ_Manager_median', 'Applicant_year_mean',\n",
       "       'Applicant_year_median', 'Manager_birthyear_mean',\n",
       "       'Manager_birthyear_median', 'Manager_Joinging_mean',\n",
       "       'Manager_Joinging_median'],\n",
       "      dtype='object')"
      ]
     },
     "execution_count": 138,
     "metadata": {},
     "output_type": "execute_result"
    }
   ],
   "source": [
    "train.columns"
   ]
  },
  {
   "cell_type": "code",
   "execution_count": 139,
   "metadata": {},
   "outputs": [
    {
     "data": {
      "text/plain": [
       "Index(['Applicant_City_PIN', 'Applicant_Gender', 'Applicant_Marital_Status',\n",
       "       'Applicant_Occupation', 'Applicant_Qualification',\n",
       "       'Manager_Joining_Designation', 'Manager_Current_Designation',\n",
       "       'Manager_Grade', 'Manager_Status', 'Manager_Gender',\n",
       "       'Manager_Num_Application', 'Manager_Num_Coded', 'Manager_Business',\n",
       "       'Manager_Num_Products', 'Manager_Business2', 'Manager_Num_Products2',\n",
       "       'Current_Date_year', 'APP_year', 'App_month', 'App_day',\n",
       "       'age_applicant', 'age_manager', 'DOJ_Manager', 'Manager_Num_Coded_mean',\n",
       "       'Manager_Num_Coded_median', 'Manager_Num_Application_mean',\n",
       "       'Manager_Num_Application_median', 'Manager_Business_mean',\n",
       "       'Manager_Business_median', 'Manager_Num_Products_mean',\n",
       "       'Manager_Num_Products_median', 'Manager_Business2_mean',\n",
       "       'Manager_Business2_median', 'Manager_Num_Products2_mean',\n",
       "       'Manager_Num_Products2_median', 'Manager_Grade_mean',\n",
       "       'Manager_Grade_median', 'Applicant_City_PIN_mean',\n",
       "       'Applicant_City_PIN_median', 'age_applicant_mean',\n",
       "       'age_applicant_median', 'age_manager_mean', 'age_manager_median',\n",
       "       'DOJ_Manager_mean', 'DOJ_Manager_median', 'Applicant_year_mean',\n",
       "       'Applicant_year_median', 'Manager_birthyear_mean',\n",
       "       'Manager_birthyear_median', 'Manager_Joinging_mean',\n",
       "       'Manager_Joinging_median'],\n",
       "      dtype='object')"
      ]
     },
     "execution_count": 139,
     "metadata": {},
     "output_type": "execute_result"
    }
   ],
   "source": [
    "train.drop(drop_cols,axis=1).drop([\"Business_Sourced\"],axis=1).columns"
   ]
  },
  {
   "cell_type": "code",
   "execution_count": 140,
   "metadata": {},
   "outputs": [
    {
     "data": {
      "text/plain": [
       "array([12.72262882, 12.78600633, 12.67092553, ..., 12.92331226,\n",
       "       12.94404739, 12.66389615])"
      ]
     },
     "execution_count": 140,
     "metadata": {},
     "output_type": "execute_result"
    }
   ],
   "source": [
    "train['Manager_Business'].unique()"
   ]
  },
  {
   "cell_type": "code",
   "execution_count": 141,
   "metadata": {},
   "outputs": [],
   "source": [
    "X = train.drop(drop_cols,axis=1).drop(['Business_Sourced'],axis=1).values\n",
    "y = train['Business_Sourced'].values"
   ]
  },
  {
   "cell_type": "code",
   "execution_count": 142,
   "metadata": {},
   "outputs": [],
   "source": [
    "from sklearn.model_selection import train_test_split"
   ]
  },
  {
   "cell_type": "code",
   "execution_count": 143,
   "metadata": {},
   "outputs": [],
   "source": [
    "X_train,X_test,y_train,y_test = train_test_split(X,y,test_size=0.25,random_state=101)"
   ]
  },
  {
   "cell_type": "code",
   "execution_count": 144,
   "metadata": {},
   "outputs": [],
   "source": [
    "from sklearn.preprocessing import StandardScaler\n",
    "sc_X = StandardScaler()\n",
    "X_train = sc_X.fit_transform(X_train)\n",
    "X_test = sc_X.transform(X_test)"
   ]
  },
  {
   "cell_type": "code",
   "execution_count": 145,
   "metadata": {},
   "outputs": [],
   "source": [
    "from sklearn.preprocessing import LabelEncoder,MinMaxScaler,StandardScaler\n",
    "from sklearn.linear_model import LogisticRegression\n",
    "from sklearn.tree import DecisionTreeClassifier\n",
    "from sklearn.ensemble import GradientBoostingClassifier ,RandomForestClassifier ,GradientBoostingClassifier\n",
    "#from xgboost import XGBClassifier \n",
    "from sklearn.model_selection import GridSearchCV, RandomizedSearchCV\n",
    "from sklearn.linear_model import Ridge,Lasso\n",
    "from sklearn.metrics import roc_auc_score ,mean_squared_error,accuracy_score,classification_report,roc_curve,confusion_matrix\n",
    "import warnings\n",
    "from sklearn.ensemble import RandomForestClassifier,AdaBoostClassifier,VotingClassifier\n",
    "warnings.filterwarnings('ignore')\n",
    "from sklearn.feature_selection import RFE\n"
   ]
  },
  {
   "cell_type": "code",
   "execution_count": 146,
   "metadata": {},
   "outputs": [],
   "source": [
    "from sklearn.metrics import mean_squared_error, mean_absolute_error, mean_squared_log_error\n",
    "from sklearn.linear_model import LinearRegression,ElasticNet,Lasso,Ridge,SGDRegressor\n",
    "from sklearn.svm import SVR\n",
    "from sklearn.tree import DecisionTreeRegressor\n",
    "from sklearn.ensemble import RandomForestRegressor,AdaBoostRegressor,VotingRegressor"
   ]
  },
  {
   "cell_type": "code",
   "execution_count": 147,
   "metadata": {},
   "outputs": [],
   "source": [
    "\n",
    "# run Logistic Regression model\n",
    "model = LogisticRegression()\n",
    "# fitting the model\n",
    "model.fit(X_train, y_train)\n",
    "# predicting the values\n",
    "y_scores = model.predict(X_test)"
   ]
  },
  {
   "cell_type": "code",
   "execution_count": 148,
   "metadata": {},
   "outputs": [
    {
     "name": "stdout",
     "output_type": "stream",
     "text": [
      "ROC_AUC_SCORE is 0.5006094913151365\n"
     ]
    },
    {
     "data": {
      "image/png": "[encoded data removed]",
      "text/plain": [
       "<Figure size 576x396 with 1 Axes>"
      ]
     },
     "metadata": {},
     "output_type": "display_data"
    }
   ],
   "source": [
    "# getting the auc roc curve\n",
    "auc = roc_auc_score(y_test, y_scores)\n",
    "#print('Classification Report:')\n",
    "#print(classification_report(y_val,y_scores))\n",
    "false_positive_rate, true_positive_rate, thresholds = roc_curve(y_test, y_scores)\n",
    "print('ROC_AUC_SCORE is',roc_auc_score(y_test, y_scores))\n",
    "    \n",
    "#fpr, tpr, _ = roc_curve(y_test, predictions[:,1])\n",
    "    \n",
    "plt.plot(false_positive_rate, true_positive_rate)\n",
    "plt.xlabel('FPR')\n",
    "plt.ylabel('TPR')\n",
    "plt.title('ROC curve')\n",
    "plt.show()"
   ]
  },
  {
   "cell_type": "code",
   "execution_count": 149,
   "metadata": {},
   "outputs": [
    {
     "name": "stdout",
     "output_type": "stream",
     "text": [
      "ROC_AUC_SCORE is 0.5479016749379653\n"
     ]
    },
    {
     "data": {
      "image/png": "[encoded data removed]",
      "text/plain": [
       "<Figure size 576x396 with 1 Axes>"
      ]
     },
     "metadata": {},
     "output_type": "display_data"
    }
   ],
   "source": [
    "# Run Decision Tree Classifier\n",
    "model = DecisionTreeClassifier()\n",
    "\n",
    "model.fit(X_train, y_train)\n",
    "y_scores = model.predict(X_test)\n",
    "auc = roc_auc_score(y_test, y_scores)\n",
    "#print('Classification Report:')\n",
    "#print(classification_report(y_val,y_scores))\n",
    "false_positive_rate, true_positive_rate, thresholds = roc_curve(y_test, y_scores)\n",
    "print('ROC_AUC_SCORE is',roc_auc_score(y_test, y_scores))\n",
    "    \n",
    "#fpr, tpr, _ = roc_curve(y_test, predictions[:,1])\n",
    "    \n",
    "plt.plot(false_positive_rate, true_positive_rate)\n",
    "plt.xlabel('FPR')\n",
    "plt.ylabel('TPR')\n",
    "plt.title('ROC curve')\n",
    "plt.show()"
   ]
  },
  {
   "cell_type": "code",
   "execution_count": 150,
   "metadata": {},
   "outputs": [
    {
     "name": "stdout",
     "output_type": "stream",
     "text": [
      "ROC_AUC_SCORE is 0.5512352667493797\n"
     ]
    },
    {
     "data": {
      "image/png": "[encoded data removed]",
      "text/plain": [
       "<Figure size 576x396 with 1 Axes>"
      ]
     },
     "metadata": {},
     "output_type": "display_data"
    }
   ],
   "source": [
    "# run Random Forrest Classifier\n",
    "model = RandomForestClassifier()\n",
    "\n",
    "model.fit(X_train, y_train)\n",
    "y_scores = model.predict(X_test)\n",
    "auc = roc_auc_score(y_test, y_scores)\n",
    "#print('Classification Report:')\n",
    "#print(classification_report(y_val,y_scores))\n",
    "false_positive_rate, true_positive_rate, thresholds = roc_curve(y_test, y_scores)\n",
    "print('ROC_AUC_SCORE is',roc_auc_score(y_test, y_scores))\n",
    "    \n",
    "#fpr, tpr, _ = roc_curve(y_test, predictions[:,1])\n",
    "    \n",
    "plt.plot(false_positive_rate, true_positive_rate)\n",
    "plt.xlabel('FPR')\n",
    "plt.ylabel('TPR')\n",
    "plt.title('ROC curve')\n",
    "plt.show()"
   ]
  },
  {
   "cell_type": "code",
   "execution_count": 151,
   "metadata": {},
   "outputs": [
    {
     "name": "stdout",
     "output_type": "stream",
     "text": [
      "ROC_AUC_SCORE is 0.555031017369727\n"
     ]
    },
    {
     "data": {
      "image/png": "[encoded data removed]",
      "text/plain": [
       "<Figure size 576x396 with 1 Axes>"
      ]
     },
     "metadata": {},
     "output_type": "display_data"
    }
   ],
   "source": [
    "model = RandomForestClassifier()\n",
    "\n",
    "model.fit(X_train, y_train)\n",
    "y_scores = model.predict(X_test)\n",
    "auc = roc_auc_score(y_test, y_scores)\n",
    "#print('Classification Report:')\n",
    "#print(classification_report(y_val,y_scores))\n",
    "false_positive_rate, true_positive_rate, thresholds = roc_curve(y_test, y_scores)\n",
    "print('ROC_AUC_SCORE is',roc_auc_score(y_test, y_scores))\n",
    "    \n",
    "#fpr, tpr, _ = roc_curve(y_test, predictions[:,1])\n",
    "    \n",
    "plt.plot(false_positive_rate, true_positive_rate)\n",
    "plt.xlabel('FPR')\n",
    "plt.ylabel('TPR')\n",
    "plt.title('ROC curve')\n",
    "plt.show()"
   ]
  },
  {
   "cell_type": "code",
   "execution_count": 152,
   "metadata": {},
   "outputs": [],
   "source": [
    " from sklearn import svm"
   ]
  },
  {
   "cell_type": "code",
   "execution_count": 153,
   "metadata": {},
   "outputs": [
    {
     "name": "stdout",
     "output_type": "stream",
     "text": [
      "ROC_AUC_SCORE is 0.5468245967741935\n"
     ]
    },
    {
     "data": {
      "image/png": "[encoded data removed]",
      "text/plain": [
       "<Figure size 576x396 with 1 Axes>"
      ]
     },
     "metadata": {},
     "output_type": "display_data"
    }
   ],
   "source": [
    "model = svm.NuSVC(gamma='auto')\n",
    "\n",
    "model.fit(X_train, y_train)\n",
    "y_scores = model.predict(X_test)\n",
    "auc = roc_auc_score(y_test, y_scores)\n",
    "#print('Classification Report:')\n",
    "#print(classification_report(y_val,y_scores))\n",
    "false_positive_rate, true_positive_rate, thresholds = roc_curve(y_test, y_scores)\n",
    "print('ROC_AUC_SCORE is',roc_auc_score(y_test, y_scores))\n",
    "    \n",
    "#fpr, tpr, _ = roc_curve(y_test, predictions[:,1])\n",
    "    \n",
    "plt.plot(false_positive_rate, true_positive_rate)\n",
    "plt.xlabel('FPR')\n",
    "plt.ylabel('TPR')\n",
    "plt.title('ROC curve')\n",
    "plt.show()"
   ]
  },
  {
   "cell_type": "code",
   "execution_count": 154,
   "metadata": {},
   "outputs": [
    {
     "name": "stdout",
     "output_type": "stream",
     "text": [
      "Requirement already satisfied: imblearn in /anaconda3/lib/python3.7/site-packages (0.0)\n",
      "Requirement already satisfied: imbalanced-learn in /anaconda3/lib/python3.7/site-packages (from imblearn) (0.7.0)\n",
      "Requirement already satisfied: joblib>=0.11 in /anaconda3/lib/python3.7/site-packages (from imbalanced-learn->imblearn) (0.16.0)\n",
      "Requirement already satisfied: scikit-learn>=0.23 in /anaconda3/lib/python3.7/site-packages (from imbalanced-learn->imblearn) (0.23.2)\n",
      "Requirement already satisfied: scipy>=0.19.1 in /anaconda3/lib/python3.7/site-packages (from imbalanced-learn->imblearn) (1.5.2)\n",
      "Requirement already satisfied: numpy>=1.13.3 in /anaconda3/lib/python3.7/site-packages (from imbalanced-learn->imblearn) (1.19.1)\n",
      "Requirement already satisfied: threadpoolctl>=2.0.0 in /anaconda3/lib/python3.7/site-packages (from scikit-learn>=0.23->imbalanced-learn->imblearn) (2.1.0)\n"
     ]
    }
   ],
   "source": [
    "!pip install imblearn "
   ]
  },
  {
   "cell_type": "code",
   "execution_count": 155,
   "metadata": {},
   "outputs": [
    {
     "name": "stdout",
     "output_type": "stream",
     "text": [
      "Requirement already up-to-date: scikit-learn in /anaconda3/lib/python3.7/site-packages (0.23.2)\n",
      "Requirement already satisfied, skipping upgrade: threadpoolctl>=2.0.0 in /anaconda3/lib/python3.7/site-packages (from scikit-learn) (2.1.0)\n",
      "Requirement already satisfied, skipping upgrade: numpy>=1.13.3 in /anaconda3/lib/python3.7/site-packages (from scikit-learn) (1.19.1)\n",
      "Requirement already satisfied, skipping upgrade: joblib>=0.11 in /anaconda3/lib/python3.7/site-packages (from scikit-learn) (0.16.0)\n",
      "Requirement already satisfied, skipping upgrade: scipy>=0.19.1 in /anaconda3/lib/python3.7/site-packages (from scikit-learn) (1.5.2)\n",
      "Note: you may need to restart the kernel to use updated packages.\n"
     ]
    }
   ],
   "source": [
    "pip install --upgrade scikit-learn"
   ]
  },
  {
   "cell_type": "code",
   "execution_count": 156,
   "metadata": {},
   "outputs": [
    {
     "data": {
      "image/png": "[encoded data removed]",
      "text/plain": [
       "<Figure size 576x396 with 1 Axes>"
      ]
     },
     "metadata": {},
     "output_type": "display_data"
    }
   ],
   "source": [
    "from sklearn.metrics import roc_auc_score,roc_curve,classification_report\n",
    "from sklearn.model_selection import cross_val_score\n",
    "from imblearn.over_sampling import SMOTE\n",
    "from yellowbrick.classifier import roc_auc\n",
    "\n",
    "\n",
    "# A function to use smote\n",
    "def grid_search_random_forrest_best(dataframe,target):\n",
    "    \n",
    "    # splitting the data\n",
    "    X_train,X_test,y_train,y_test = train_test_split(dataframe,target, test_size=0.3, random_state=42)\n",
    "    \n",
    "    # Applying Smote on train data for dealing with class imbalance\n",
    "    smote = SMOTE()\n",
    "    \n",
    "    X_sm, y_sm =  smote.fit_sample(X_train, y_train)\n",
    "    \n",
    "    rfc = RandomForestClassifier(n_estimators=180, max_features='sqrt', max_depth=12, criterion='gini',random_state=80)\n",
    "    \n",
    "    rfc.fit(X_sm, y_sm)\n",
    "    y_pred = rfc.predict(X_test)\n",
    "    #print(classification_report(y_val, y_pred))\n",
    "    #print(confusion_matrix(y_val, y_pred))\n",
    "    visualizer = roc_auc(rfc,X_sm,y_sm,X_test,y_test)\n",
    "\n",
    "\n",
    "grid_search_random_forrest_best(X,y)"
   ]
  },
  {
   "cell_type": "code",
   "execution_count": 157,
   "metadata": {},
   "outputs": [],
   "source": [
    "X_train,X_test,y_train,y_test = train_test_split(X,y,test_size=0.3, random_state=42)"
   ]
  },
  {
   "cell_type": "code",
   "execution_count": 158,
   "metadata": {},
   "outputs": [],
   "source": [
    "# Applying Smote on train data for dealing with class imbalance\n",
    "smote = SMOTE()"
   ]
  },
  {
   "cell_type": "code",
   "execution_count": 159,
   "metadata": {},
   "outputs": [],
   "source": [
    "X_sm, y_sm =  smote.fit_sample(X_train, y_train)\n",
    "    \n",
    "    "
   ]
  },
  {
   "cell_type": "code",
   "execution_count": 160,
   "metadata": {},
   "outputs": [],
   "source": [
    "rfc = RandomForestClassifier(n_estimators=150, max_features='auto', max_depth=12, criterion='entropy',random_state=80)\n",
    "rfc.fit(X_sm, y_sm)\n",
    "y_pred = rfc.predict(X_test)"
   ]
  },
  {
   "cell_type": "code",
   "execution_count": 161,
   "metadata": {},
   "outputs": [
    {
     "data": {
      "text/html": [
       "<div>\n",
       "<style scoped>\n",
       "    .dataframe tbody tr th:only-of-type {\n",
       "        vertical-align: middle;\n",
       "    }\n",
       "\n",
       "    .dataframe tbody tr th {\n",
       "        vertical-align: top;\n",
       "    }\n",
       "\n",
       "    .dataframe thead th {\n",
       "        text-align: right;\n",
       "    }\n",
       "</style>\n",
       "<table border=\"1\" class=\"dataframe\">\n",
       "  <thead>\n",
       "    <tr style=\"text-align: right;\">\n",
       "      <th></th>\n",
       "      <th>ID</th>\n",
       "      <th>Business_Sourced</th>\n",
       "    </tr>\n",
       "  </thead>\n",
       "  <tbody>\n",
       "    <tr>\n",
       "      <th>0</th>\n",
       "      <td>FIN1009528</td>\n",
       "      <td>0.0</td>\n",
       "    </tr>\n",
       "    <tr>\n",
       "      <th>1</th>\n",
       "      <td>FIN1009529</td>\n",
       "      <td>0.0</td>\n",
       "    </tr>\n",
       "    <tr>\n",
       "      <th>2</th>\n",
       "      <td>FIN1009530</td>\n",
       "      <td>0.0</td>\n",
       "    </tr>\n",
       "    <tr>\n",
       "      <th>3</th>\n",
       "      <td>FIN1009531</td>\n",
       "      <td>0.0</td>\n",
       "    </tr>\n",
       "    <tr>\n",
       "      <th>4</th>\n",
       "      <td>FIN1009532</td>\n",
       "      <td>0.0</td>\n",
       "    </tr>\n",
       "  </tbody>\n",
       "</table>\n",
       "</div>"
      ],
      "text/plain": [
       "           ID  Business_Sourced\n",
       "0  FIN1009528               0.0\n",
       "1  FIN1009529               0.0\n",
       "2  FIN1009530               0.0\n",
       "3  FIN1009531               0.0\n",
       "4  FIN1009532               0.0"
      ]
     },
     "execution_count": 161,
     "metadata": {},
     "output_type": "execute_result"
    }
   ],
   "source": [
    "sub_file1 = pd.concat([test['ID'],pd.DataFrame(y_pred,columns=[\"Business_Sourced\"])],axis=1)\n",
    "sub_file1.head()"
   ]
  },
  {
   "cell_type": "code",
   "execution_count": 162,
   "metadata": {},
   "outputs": [
    {
     "data": {
      "text/plain": [
       "(5045, 2)"
      ]
     },
     "execution_count": 162,
     "metadata": {},
     "output_type": "execute_result"
    }
   ],
   "source": [
    "sub_file1.shape"
   ]
  },
  {
   "cell_type": "code",
   "execution_count": 90,
   "metadata": {},
   "outputs": [],
   "source": [
    "#sub_file1['Business_Sourced'].unique()"
   ]
  },
  {
   "cell_type": "code",
   "execution_count": 168,
   "metadata": {},
   "outputs": [],
   "source": [
    "sub_file1.to_csv('Submission_file_Hack.csv',index=False)"
   ]
  },
  {
   "cell_type": "code",
   "execution_count": null,
   "metadata": {},
   "outputs": [],
   "source": []
  }
 ],
 "metadata": {
  "kernelspec": {
   "display_name": "Python 3",
   "language": "python",
   "name": "python3"
  },
  "language_info": {
   "codemirror_mode": {
    "name": "ipython",
    "version": 3
   },
   "file_extension": ".py",
   "mimetype": "text/x-python",
   "name": "python",
   "nbconvert_exporter": "python",
   "pygments_lexer": "ipython3",
   "version": "3.7.7"
  }
 },
 "nbformat": 4,
 "nbformat_minor": 4
}
